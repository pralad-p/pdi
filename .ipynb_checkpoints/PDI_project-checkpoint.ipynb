{
 "cells": [
  {
   "cell_type": "code",
   "execution_count": 89,
   "metadata": {},
   "outputs": [
    {
     "name": "stdout",
     "output_type": "stream",
     "text": [
      "9763\n"
     ]
    }
   ],
   "source": [
    "import xml.etree.ElementTree as ET\n",
    "import numpy as np\n",
    "tree = ET.parse('cddb_1000.xml')\n",
    "root = tree.getroot()\n",
    "artist = []\n",
    "title = []\n",
    "category =[]\n",
    "genre =[]\n",
    "tracks = []\n",
    "year = []\n",
    "cd = np.arange(9763)\n",
    "for disc in root.findall('disc'):\n",
    "    artist.append (disc.find('artist').text)\n",
    "    title.append (disc.find('dtitle').text)\n",
    "    category.append (disc.find('category').text)\n",
    "    try:\n",
    "        genre.append (disc.find ('genre').text)\n",
    "    except:\n",
    "        genre.append ('0')\n",
    "        continue\n",
    "    try:\n",
    "        year.append(disc.find ('year').text)\n",
    "    except:\n",
    "        year.append ('0')\n",
    "        continue\n",
    "    #tracks.append (disc.find('tracks/title').text)\n",
    "print (len(artist))\n",
    "\n",
    "\n",
    "\n"
   ]
  },
  {
   "cell_type": "code",
   "execution_count": 165,
   "metadata": {},
   "outputs": [],
   "source": [
    "#make a function that looks throug 1 element in each list \n",
    "#and make a new string from these elements. \n",
    "\n",
    "def Extract ():\n",
    "    listt=[]\n",
    "    newlist=[]\n",
    "    for x in range (50):\n",
    "        listt.append (artist[x])\n",
    "        listt.append (genre[x])\n",
    "        listt.append (year[x])\n",
    "        listt.append (category[x])\n",
    "        listt.append (title[x])\n",
    "        bla=\"\".join(listt)\n",
    "        if (len(listt)%5)==0:\n",
    "            newlist.append(bla)\n",
    "            listt=[]\n",
    "    return newlist \n",
    "stat = Extract()\n",
    "\n",
    "\n"
   ]
  },
  {
   "cell_type": "code",
   "execution_count": 206,
   "metadata": {},
   "outputs": [
    {
     "name": "stdout",
     "output_type": "stream",
     "text": [
      "[98]\n"
     ]
    }
   ],
   "source": [
    "from fuzzywuzzy import fuzz\n",
    "import csv\n",
    "scores =[]\n",
    "fittedrecords=[]\n",
    "for x in range (10):\n",
    "    for i in range (10):\n",
    "        if x==i:\n",
    "            break\n",
    "        else: \n",
    "            ratio = fuzz.token_set_ratio(stat[x].lower(),stat[i].lower())\n",
    "            if ratio > 56:\n",
    "                scores.append(ratio)\n",
    "                with open ('result_first_stage.csv',mode='w') as results:\n",
    "                    fieldnames = ['record_1','record_2','score']\n",
    "                    writer = csv.DictWriter(results, fieldnames=fieldnames)\n",
    "                    writer.writeheader()\n",
    "                    writer.writerow({'record_1': x,'record_2': i,'score': scores})\n",
    "            \n",
    "print(scores)"
   ]
  },
  {
   "cell_type": "code",
   "execution_count": null,
   "metadata": {},
   "outputs": [],
   "source": []
  },
  {
   "cell_type": "code",
   "execution_count": null,
   "metadata": {},
   "outputs": [],
   "source": []
  }
 ],
 "metadata": {
  "kernelspec": {
   "display_name": "Python 3",
   "language": "python",
   "name": "python3"
  },
  "language_info": {
   "codemirror_mode": {
    "name": "ipython",
    "version": 3
   },
   "file_extension": ".py",
   "mimetype": "text/x-python",
   "name": "python",
   "nbconvert_exporter": "python",
   "pygments_lexer": "ipython3",
   "version": "3.7.5"
  }
 },
 "nbformat": 4,
 "nbformat_minor": 2
}
